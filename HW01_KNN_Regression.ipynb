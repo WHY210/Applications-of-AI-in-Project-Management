{
  "nbformat": 4,
  "nbformat_minor": 0,
  "metadata": {
    "colab": {
      "provenance": [],
      "collapsed_sections": [
        "vAptsnxtb2zf",
        "JaIll6RZml7D"
      ]
    },
    "kernelspec": {
      "name": "python3",
      "display_name": "Python 3"
    },
    "language_info": {
      "name": "python"
    }
  },
  "cells": [
    {
      "cell_type": "markdown",
      "source": [
        "# Homework 1 土木4B 109612054 吳巽言\n",
        "\n",
        "Q : Formulate a weighted k-NN algorithm for a REGRESSION problem based on a weighted average of its k-nearest neighbors, using the inverse of the Euclidean distance as the weight."
      ],
      "metadata": {
        "id": "5j1rY0KFaNLV"
      }
    },
    {
      "cell_type": "markdown",
      "source": [
        "# ANS\n",
        "The main difference between classification and regression is that regression is used for predicting \"continuous\" values.\n",
        "\n",
        "So for regression KNN model, we return weighted mean of the K neighbors as the final result.\n",
        "\n",
        "\n",
        "If the distance between that point and its neighbor is 0, it means they're identical. So we simply predict it the same as its neighbor"
      ],
      "metadata": {
        "id": "vAptsnxtb2zf"
      }
    },
    {
      "cell_type": "markdown",
      "source": [
        "# KNN - Regression\n"
      ],
      "metadata": {
        "id": "kROF42BsrqTG"
      }
    },
    {
      "cell_type": "markdown",
      "source": [
        "## Generate sample data\n",
        "\n",
        "reference : https://scikit-learn.org/stable/auto_examples/neighbors/plot_regression.html#sphx-glr-auto-examples-neighbors-plot-regression-py"
      ],
      "metadata": {
        "id": "845Qr7aBLibx"
      }
    },
    {
      "cell_type": "code",
      "source": [
        "import numpy as np\n",
        "\n",
        "np.random.seed(0) # 固定random seed以便重現\n",
        "X_regression_train = np.sort(5 * np.random.rand(40, 1), axis=0)\n",
        "y_regression_train = np.sin(X_regression_train).ravel() # 正弦函數值使用 ravel() 轉換成一維數組\n",
        "X_regression_test = np.linspace(0, 5, 500)[:, np.newaxis]\n",
        "y_regression_test = np.sin(X_regression_test).ravel()\n",
        "\n",
        "# Add noise to targets\n",
        "y_regression_train[::5] += 1 * (0.5 - np.random.rand(8))"
      ],
      "metadata": {
        "id": "hNf5DgU7Lrss"
      },
      "execution_count": null,
      "outputs": []
    },
    {
      "cell_type": "markdown",
      "source": [
        "## Training and predicting"
      ],
      "metadata": {
        "id": "vENJUeKVSDt-"
      }
    },
    {
      "cell_type": "markdown",
      "source": [
        "### 自己寫 Regression model algorithmn ?"
      ],
      "metadata": {
        "id": "wFgDhHtzAyIz"
      }
    },
    {
      "cell_type": "code",
      "source": [
        "def KNN_regressor(X_train, y_train, X_test, k):\n",
        "\n",
        "    y_pred = []\n",
        "\n",
        "    for x_test in X_test:\n",
        "        # 計算預知點與所有點的歐基里德距離\n",
        "        distances = [np.linalg.norm(x_test - x_train) for x_train in X_train]\n",
        "        # 把距離依大小排序，並回傳原順序對應的大小排序編號，找出前K近的點\n",
        "        sortindex = np.argsort(distances)[:k]\n",
        "\n",
        "        # 前k項的加權平均\n",
        "        weighted_sum, sum_of_weights = 0, 0\n",
        "        for index in sortindex:\n",
        "            # 權重 = 1/distance，若距離=0則識為identical，因此改將距離=1使權重=1\n",
        "            weight = 1 / distances[index] if distances[index] != 0 else 1\n",
        "            weighted_sum += weight * y_train[index]\n",
        "            sum_of_weights += weight\n",
        "\n",
        "        if sum_of_weights != 0:\n",
        "            # 周遭K點的加權平均即為預測結果\n",
        "            y_pred.append(weighted_sum / sum_of_weights)\n",
        "        else:\n",
        "            y_pred.append(None)\n",
        "\n",
        "    return np.array(y_pred)\n",
        "\n",
        "y_regression1_pred = KNN_regressor(X_regression_train, y_regression_train, X_regression_test, k)\n",
        "print (\"Print results for first 20 test data points:\")\n",
        "print (\"Predicted labels:\\n\", y_regression1_pred[20:40])\n",
        "print (\"Ground truth    :\\n\", y_regression_test[20:40])\n"
      ],
      "metadata": {
        "colab": {
          "base_uri": "https://localhost:8080/"
        },
        "id": "tfdO0wQUBLl7",
        "outputId": "fc441dba-a3a3-4fba-b93e-87d8588a7931"
      },
      "execution_count": null,
      "outputs": [
        {
          "output_type": "stream",
          "name": "stdout",
          "text": [
            "Print results for first 20 test data points:\n",
            "Predicted labels:\n",
            " [0.2107693  0.21659801 0.22267958 0.22904427 0.23572266 0.24274659\n",
            " 0.25015007 0.30539707 0.31248598 0.31915606 0.32539345 0.33116646\n",
            " 0.33641444 0.34102563 0.34478922 0.35505644 0.35734893 0.37263323\n",
            " 0.38560181 0.39653362]\n",
            "Ground truth    :\n",
            " [0.19906213 0.20887148 0.21865986 0.22842628 0.23816978 0.24788936\n",
            " 0.25758405 0.26725288 0.27689487 0.28650907 0.2960945  0.30565021\n",
            " 0.31517522 0.3246686  0.33412937 0.3435566  0.35294934 0.36230664\n",
            " 0.37162756 0.38091117]\n"
          ]
        }
      ]
    },
    {
      "cell_type": "markdown",
      "source": [
        "### sklearn_KNeighborsRegressor\n",
        "\n",
        "reference : https://scikit-learn.org/stable/modules/generated/sklearn.neighbors.KNeighborsRegressor.html\n",
        "\n",
        "\n",
        "```\n",
        "class sklearn.neighbors.KNeighborsRegressor(n_neighbors=5, *, weights='uniform', algorithm='auto', leaf_size=30, p=2, metric='minkowski', metric_params=None, n_jobs=None)[source]\n",
        "```\n",
        "**weights**\n",
        "‘distance’ : *weight points by the inverse of their distance*.\n",
        "\n",
        "**metric**\n",
        "Metric to use for distance computation. Default is “minkowski”, *which results in the standard Euclidean distance when p = 2*."
      ],
      "metadata": {
        "id": "4cvd-1IJ-IXK"
      }
    },
    {
      "cell_type": "code",
      "execution_count": null,
      "metadata": {
        "colab": {
          "base_uri": "https://localhost:8080/"
        },
        "id": "mmXSUdLoaMnJ",
        "outputId": "e46ed129-45cd-45d9-d30e-42cb6aa47a94"
      },
      "outputs": [
        {
          "output_type": "stream",
          "name": "stdout",
          "text": [
            "Requirement already satisfied: scikit-learn in /usr/local/lib/python3.10/dist-packages (1.3.1)\n",
            "Requirement already satisfied: numpy<2.0,>=1.17.3 in /usr/local/lib/python3.10/dist-packages (from scikit-learn) (1.23.5)\n",
            "Requirement already satisfied: scipy>=1.5.0 in /usr/local/lib/python3.10/dist-packages (from scikit-learn) (1.11.3)\n",
            "Requirement already satisfied: joblib>=1.1.1 in /usr/local/lib/python3.10/dist-packages (from scikit-learn) (1.3.2)\n",
            "Requirement already satisfied: threadpoolctl>=2.0.0 in /usr/local/lib/python3.10/dist-packages (from scikit-learn) (3.2.0)\n"
          ]
        }
      ],
      "source": [
        "!pip install --upgrade scikit-learn"
      ]
    },
    {
      "cell_type": "code",
      "source": [
        "from sklearn.neighbors import KNeighborsRegressor\n",
        "\n",
        "k = 3\n",
        "clf = KNeighborsRegressor(n_neighbors = k, weights='distance', p = 2) # metric預設是Minkowski，p=2時就等於Euclidean distance\n",
        "clf.fit(X_regression_train, y_regression_train)\n",
        "y_regression2_pred = clf.predict(X_regression_test)\n",
        "\n",
        "print (\"Print results for first 20 test data points:\")\n",
        "print (\"Predicted labels:\\n\", y_regression2_pred[20:40])\n",
        "print (\"Ground truth    :\\n\", y_regression_test[20:40])"
      ],
      "metadata": {
        "id": "PC9Iue2Smuv_",
        "colab": {
          "base_uri": "https://localhost:8080/"
        },
        "outputId": "cd4d7e00-b856-49a3-92d2-c4873881d143"
      },
      "execution_count": null,
      "outputs": [
        {
          "output_type": "stream",
          "name": "stdout",
          "text": [
            "Print results for first 20 test data points:\n",
            "Predicted labels:\n",
            " [0.2107693  0.21659801 0.22267958 0.22904427 0.23572266 0.24274659\n",
            " 0.25015007 0.30539707 0.31248598 0.31915606 0.32539345 0.33116646\n",
            " 0.33641444 0.34102563 0.34478922 0.35505644 0.35734893 0.37263323\n",
            " 0.38560181 0.39653362]\n",
            "Ground truth    :\n",
            " [0.19906213 0.20887148 0.21865986 0.22842628 0.23816978 0.24788936\n",
            " 0.25758405 0.26725288 0.27689487 0.28650907 0.2960945  0.30565021\n",
            " 0.31517522 0.3246686  0.33412937 0.3435566  0.35294934 0.36230664\n",
            " 0.37162756 0.38091117]\n"
          ]
        }
      ]
    },
    {
      "cell_type": "markdown",
      "source": [
        "## Evaluation\n",
        "\n",
        "當您使用回歸模型時，通常不使用\"accuracy\"作為評估指標，因為回歸模型的輸出是連續值而不是類別標籤。相反，您應該使用回歸模型的評估指標，例如均方誤差（Mean Squared Error，MSE）或R平方（R-squared）等來評估模型的性能。 by chat-GPT\n",
        "\n",
        "這邊用Mean Squared Error\n",
        "MSE = 1 / N * sum for i to N (y_i – yhat_i)^2"
      ],
      "metadata": {
        "id": "g_Kl3A-CSWFD"
      }
    },
    {
      "cell_type": "code",
      "source": [
        "import matplotlib.pyplot as plt\n",
        "from sklearn.metrics import mean_squared_error\n",
        "\n",
        "mse1 = mean_squared_error(y_regression_test, y_regression1_pred)\n",
        "mse2 = mean_squared_error(y_regression_test, y_regression2_pred)\n",
        "\n",
        "plt.scatter(X_regression_train, y_regression_train, color=\"darkorange\", label=\"data\")\n",
        "plt.plot(X_regression_test, y_regression1_pred, color=\"navy\", alpha = 0.5, label=\"prediction1\")\n",
        "plt.plot(X_regression_test, y_regression2_pred, color=\"red\", alpha = 0.5, label=\"prediction2\")\n",
        "plt.legend()\n",
        "plt.title(\"KNN_Regressor (k = k, weights = '1/Euclidean distance')\")\n",
        "print(f\"Mean Squared Error (MSE) for sklearn model: {mse1:.5f} \\n\")\n",
        "print(f\"Mean Squared Error (MSE) for my own model : {mse2:.5f} \\n\")\n",
        "plt.show()"
      ],
      "metadata": {
        "colab": {
          "base_uri": "https://localhost:8080/",
          "height": 525
        },
        "id": "vabaf1ueL47X",
        "outputId": "8891d80c-14bb-4c23-99c4-50aa2c79bc7e"
      },
      "execution_count": null,
      "outputs": [
        {
          "output_type": "stream",
          "name": "stdout",
          "text": [
            "Mean Squared Error (MSE) for sklearn model: 0.00595 \n",
            "\n",
            "Mean Squared Error (MSE) for my own model : 0.00595 \n",
            "\n"
          ]
        },
        {
          "output_type": "display_data",
          "data": {
            "text/plain": [
              "<Figure size 640x480 with 1 Axes>"
            ],
            "image/png": "[encoded data removed]"
          },
          "metadata": {}
        }
      ]
    },
    {
      "cell_type": "markdown",
      "source": [
        "# KNN - Classification\n",
        "\n"
      ],
      "metadata": {
        "id": "JaIll6RZml7D"
      }
    },
    {
      "cell_type": "markdown",
      "source": [
        "## import dataset Iris"
      ],
      "metadata": {
        "id": "1MCKoskWsMfh"
      }
    },
    {
      "cell_type": "code",
      "source": [
        "from sklearn import datasets\n",
        "\n",
        "iris = datasets.load_iris()\n",
        "iris.keys()"
      ],
      "metadata": {
        "colab": {
          "base_uri": "https://localhost:8080/"
        },
        "id": "jobnJtJbdJc8",
        "outputId": "f1f7411b-47ab-4a51-841f-73ce7ca0c5e5"
      },
      "execution_count": null,
      "outputs": [
        {
          "output_type": "execute_result",
          "data": {
            "text/plain": [
              "dict_keys(['data', 'target', 'frame', 'target_names', 'DESCR', 'feature_names', 'filename', 'data_module'])"
            ]
          },
          "metadata": {},
          "execution_count": 31
        }
      ]
    },
    {
      "cell_type": "code",
      "source": [
        "print(iris.DESCR)"
      ],
      "metadata": {
        "id": "3ocnaJkNj6mU",
        "colab": {
          "base_uri": "https://localhost:8080/"
        },
        "outputId": "264fc665-a98b-4a56-905c-06d902e6a561"
      },
      "execution_count": null,
      "outputs": [
        {
          "output_type": "stream",
          "name": "stdout",
          "text": [
            ".. _iris_dataset:\n",
            "\n",
            "Iris plants dataset\n",
            "--------------------\n",
            "\n",
            "**Data Set Characteristics:**\n",
            "\n",
            "    :Number of Instances: 150 (50 in each of three classes)\n",
            "    :Number of Attributes: 4 numeric, predictive attributes and the class\n",
            "    :Attribute Information:\n",
            "        - sepal length in cm\n",
            "        - sepal width in cm\n",
            "        - petal length in cm\n",
            "        - petal width in cm\n",
            "        - class:\n",
            "                - Iris-Setosa\n",
            "                - Iris-Versicolour\n",
            "                - Iris-Virginica\n",
            "                \n",
            "    :Summary Statistics:\n",
            "\n",
            "    ============== ==== ==== ======= ===== ====================\n",
            "                    Min  Max   Mean    SD   Class Correlation\n",
            "    ============== ==== ==== ======= ===== ====================\n",
            "    sepal length:   4.3  7.9   5.84   0.83    0.7826\n",
            "    sepal width:    2.0  4.4   3.05   0.43   -0.4194\n",
            "    petal length:   1.0  6.9   3.76   1.76    0.9490  (high!)\n",
            "    petal width:    0.1  2.5   1.20   0.76    0.9565  (high!)\n",
            "    ============== ==== ==== ======= ===== ====================\n",
            "\n",
            "    :Missing Attribute Values: None\n",
            "    :Class Distribution: 33.3% for each of 3 classes.\n",
            "    :Creator: R.A. Fisher\n",
            "    :Donor: Michael Marshall (MARSHALL%PLU@io.arc.nasa.gov)\n",
            "    :Date: July, 1988\n",
            "\n",
            "The famous Iris database, first used by Sir R.A. Fisher. The dataset is taken\n",
            "from Fisher's paper. Note that it's the same as in R, but not as in the UCI\n",
            "Machine Learning Repository, which has two wrong data points.\n",
            "\n",
            "This is perhaps the best known database to be found in the\n",
            "pattern recognition literature.  Fisher's paper is a classic in the field and\n",
            "is referenced frequently to this day.  (See Duda & Hart, for example.)  The\n",
            "data set contains 3 classes of 50 instances each, where each class refers to a\n",
            "type of iris plant.  One class is linearly separable from the other 2; the\n",
            "latter are NOT linearly separable from each other.\n",
            "\n",
            "|details-start|\n",
            "**References**\n",
            "|details-split|\n",
            "\n",
            "- Fisher, R.A. \"The use of multiple measurements in taxonomic problems\"\n",
            "  Annual Eugenics, 7, Part II, 179-188 (1936); also in \"Contributions to\n",
            "  Mathematical Statistics\" (John Wiley, NY, 1950).\n",
            "- Duda, R.O., & Hart, P.E. (1973) Pattern Classification and Scene Analysis.\n",
            "  (Q327.D83) John Wiley & Sons.  ISBN 0-471-22361-1.  See page 218.\n",
            "- Dasarathy, B.V. (1980) \"Nosing Around the Neighborhood: A New System\n",
            "  Structure and Classification Rule for Recognition in Partially Exposed\n",
            "  Environments\".  IEEE Transactions on Pattern Analysis and Machine\n",
            "  Intelligence, Vol. PAMI-2, No. 1, 67-71.\n",
            "- Gates, G.W. (1972) \"The Reduced Nearest Neighbor Rule\".  IEEE Transactions\n",
            "  on Information Theory, May 1972, 431-433.\n",
            "- See also: 1988 MLC Proceedings, 54-64.  Cheeseman et al\"s AUTOCLASS II\n",
            "  conceptual clustering system finds 3 classes in the data.\n",
            "- Many, many more ...\n",
            "\n",
            "|details-end|\n"
          ]
        }
      ]
    },
    {
      "cell_type": "code",
      "source": [
        "import numpy as np\n",
        "\n",
        "iris_X = iris.data\n",
        "iris_y = iris.target\n",
        "print('Number of classes: %d' %len(np.unique(iris_y)))   #用 np.unique() 移除重複數字後排序可以看到target分三類\n",
        "print('Number of data points: %d' %len(iris_y))\n",
        "\n",
        "print ('\\nSamples from class 0:\\n', iris_X[iris_y == 0,:][:5,:])\n",
        "print ('\\nSamples from class 1:\\n', iris_X[iris_y == 1,:][:5,:])\n",
        "print ('\\nSamples from class 2:\\n',iris_X[iris_y == 2,:][:5,:])"
      ],
      "metadata": {
        "id": "h1oEzqrmdIbu",
        "colab": {
          "base_uri": "https://localhost:8080/"
        },
        "outputId": "982abc50-f377-4225-ed58-d48caa0a1762"
      },
      "execution_count": null,
      "outputs": [
        {
          "output_type": "stream",
          "name": "stdout",
          "text": [
            "Number of classes: 3\n",
            "Number of data points: 150\n",
            "\n",
            "Samples from class 0:\n",
            " [[5.1 3.5 1.4 0.2]\n",
            " [4.9 3.  1.4 0.2]\n",
            " [4.7 3.2 1.3 0.2]\n",
            " [4.6 3.1 1.5 0.2]\n",
            " [5.  3.6 1.4 0.2]]\n",
            "\n",
            "Samples from class 1:\n",
            " [[7.  3.2 4.7 1.4]\n",
            " [6.4 3.2 4.5 1.5]\n",
            " [6.9 3.1 4.9 1.5]\n",
            " [5.5 2.3 4.  1.3]\n",
            " [6.5 2.8 4.6 1.5]]\n",
            "\n",
            "Samples from class 2:\n",
            " [[6.3 3.3 6.  2.5]\n",
            " [5.8 2.7 5.1 1.9]\n",
            " [7.1 3.  5.9 2.1]\n",
            " [6.3 2.9 5.6 1.8]\n",
            " [6.5 3.  5.8 2.2]]\n"
          ]
        }
      ]
    },
    {
      "cell_type": "markdown",
      "source": [
        "## Split training and test sets\n",
        "Suppose we want to use 50 data points for the test set and the remaining 100 data points for the training set.\n",
        "\n",
        "Scikit-learn has a function that allows us to randomly select these points, as follows:\n",
        "\n",
        "reference : https://scikit-learn.org/stable/modules/generated/sklearn.model_selection.train_test_split.html"
      ],
      "metadata": {
        "id": "2ErBMvtNkOS2"
      }
    },
    {
      "cell_type": "code",
      "source": [
        "from sklearn.model_selection import train_test_split\n",
        "\n",
        "X_classification_train, X_classification_test, y_classification_train, y_classification_test = train_test_split(iris_X, iris_y, test_size=50)\n",
        "\n",
        "print (\"Training size: %d\" %len(y_classification_train))\n",
        "print (\"Test size    : %d\" %len(y_classification_test))"
      ],
      "metadata": {
        "id": "ojDCk1IhkVV0",
        "colab": {
          "base_uri": "https://localhost:8080/"
        },
        "outputId": "54ecc402-028f-4915-9b3d-37bcf1a8d8e8"
      },
      "execution_count": null,
      "outputs": [
        {
          "output_type": "stream",
          "name": "stdout",
          "text": [
            "Training size: 100\n",
            "Test size    : 50\n"
          ]
        }
      ]
    },
    {
      "cell_type": "markdown",
      "source": [
        "## Training and predicitng\n",
        "\n",
        "reference : https://scikit-learn.org/stable/modules/generated/sklearn.neighbors.KNeighborsClassifier.html\n",
        "\n",
        "\n",
        "```\n",
        "class sklearn.neighbors.KNeighborsClassifier(n_neighbors=5, *, weights='uniform', algorithm='auto', leaf_size=30, p=2, metric='minkowski', metric_params=None, n_jobs=None)[source]\n",
        "```\n",
        "datasets剛剛分成 X_train, X_test, y_train, y_test，**這邊測試模型（分類器/回歸器）得到 y_pred**\n",
        "\n",
        "training data : X_train 對到正確答案 y_train\n",
        "\n",
        "X_test  對到 ground truth : y_test"
      ],
      "metadata": {
        "id": "blVsMTaKzQkQ"
      }
    },
    {
      "cell_type": "code",
      "source": [
        "from sklearn.neighbors import KNeighborsClassifier\n",
        "\n",
        "clf = KNeighborsClassifier(n_neighbors = 1, p = 2) # K=1, p=distance\n",
        "clf.fit(X_classification_train, y_classification_train)      # for training\n",
        "y_classification_pred = clf.predict(X_classification_test)   # for prediction\n",
        "\n",
        "print (\"Print results for first 20 test data points:\")\n",
        "print (\"Predicted labels: \", y_classification_pred[20:40])  # 預測結果\n",
        "print (\"Ground truth    : \", y_classification_test[20:40])  # 實際的分類"
      ],
      "metadata": {
        "id": "mlidYzKImg2i",
        "colab": {
          "base_uri": "https://localhost:8080/"
        },
        "outputId": "61ccf55a-ce56-44ab-8890-bea7b949c67f"
      },
      "execution_count": null,
      "outputs": [
        {
          "output_type": "stream",
          "name": "stdout",
          "text": [
            "Print results for first 20 test data points:\n",
            "Predicted labels:  [2 2 2 1 1 0 1 0 2 2 1 2 1 2 0 0 1 0 1 0]\n",
            "Ground truth    :  [2 2 2 1 1 0 1 0 2 2 1 2 1 2 0 0 1 0 1 0]\n"
          ]
        }
      ]
    },
    {
      "cell_type": "markdown",
      "source": [
        "## Evaluation\n",
        "To evaluate the accuracy, we see how many points in the test data are predicted correctly.\n",
        "This number divided by the total number in the test data set will give us the accuracy. Scikit-learn provides the accuracy_score function to carry out this task."
      ],
      "metadata": {
        "id": "G4W0RjpGrg1n"
      }
    },
    {
      "cell_type": "code",
      "source": [
        "from sklearn.metrics import accuracy_score\n",
        "\n",
        "print (\"\\n Classification - 1NN (uniform weights) \\n    Accuracy : %.2f %%\" %(100*accuracy_score(y_classification_test, y_classification_pred)))"
      ],
      "metadata": {
        "id": "kkxYGz2Km99K",
        "colab": {
          "base_uri": "https://localhost:8080/"
        },
        "outputId": "43c081da-bb74-43cb-d594-27a58ef53c7b"
      },
      "execution_count": null,
      "outputs": [
        {
          "output_type": "stream",
          "name": "stdout",
          "text": [
            "\n",
            " Classification - 1NN (uniform weights) \n",
            "    Accuracy : 96.00 %\n"
          ]
        }
      ]
    },
    {
      "cell_type": "markdown",
      "source": [
        "# OTHER ( 跟作業無關 )"
      ],
      "metadata": {
        "id": "_5aQcyMu6PL5"
      }
    },
    {
      "cell_type": "markdown",
      "source": [
        "#### Other method of assigning weight"
      ],
      "metadata": {
        "id": "R-eDmGjqvKrW"
      }
    },
    {
      "cell_type": "code",
      "source": [
        "def myweight(distances):\n",
        "    sigma2 = .5\n",
        "    return np.eXp(-distances**2/sigma2)\n",
        "\n",
        "clf = KNeighborsClassifier(n_neighbors = 10, p = 2, weights = myweight)\n",
        "clf.fit(X_train, y_train)\n",
        "y_pred = clf.predict(X_test)\n",
        "\n",
        "print (\"Accuracy of 10NN (customized weights): %.2f %%\" %(100*accuracy_score(y_test, y_pred)))"
      ],
      "metadata": {
        "id": "kQ0nZgWeufVj",
        "colab": {
          "base_uri": "https://localhost:8080/",
          "height": 255
        },
        "outputId": "e8986eef-415e-419e-b3a4-06a145465247"
      },
      "execution_count": null,
      "outputs": [
        {
          "output_type": "error",
          "ename": "NameError",
          "evalue": "ignored",
          "traceback": [
            "\u001b[0;31m---------------------------------------------------------------------------\u001b[0m",
            "\u001b[0;31mNameError\u001b[0m                                 Traceback (most recent call last)",
            "\u001b[0;32m<ipython-input-37-cefbbd97860b>\u001b[0m in \u001b[0;36m<cell line: 6>\u001b[0;34m()\u001b[0m\n\u001b[1;32m      4\u001b[0m \u001b[0;34m\u001b[0m\u001b[0m\n\u001b[1;32m      5\u001b[0m \u001b[0mclf\u001b[0m \u001b[0;34m=\u001b[0m \u001b[0mKNeighborsClassifier\u001b[0m\u001b[0;34m(\u001b[0m\u001b[0mn_neighbors\u001b[0m \u001b[0;34m=\u001b[0m \u001b[0;36m10\u001b[0m\u001b[0;34m,\u001b[0m \u001b[0mp\u001b[0m \u001b[0;34m=\u001b[0m \u001b[0;36m2\u001b[0m\u001b[0;34m,\u001b[0m \u001b[0mweights\u001b[0m \u001b[0;34m=\u001b[0m \u001b[0mmyweight\u001b[0m\u001b[0;34m)\u001b[0m\u001b[0;34m\u001b[0m\u001b[0;34m\u001b[0m\u001b[0m\n\u001b[0;32m----> 6\u001b[0;31m \u001b[0mclf\u001b[0m\u001b[0;34m.\u001b[0m\u001b[0mfit\u001b[0m\u001b[0;34m(\u001b[0m\u001b[0mX_train\u001b[0m\u001b[0;34m,\u001b[0m \u001b[0my_train\u001b[0m\u001b[0;34m)\u001b[0m\u001b[0;34m\u001b[0m\u001b[0;34m\u001b[0m\u001b[0m\n\u001b[0m\u001b[1;32m      7\u001b[0m \u001b[0my_pred\u001b[0m \u001b[0;34m=\u001b[0m \u001b[0mclf\u001b[0m\u001b[0;34m.\u001b[0m\u001b[0mpredict\u001b[0m\u001b[0;34m(\u001b[0m\u001b[0mX_test\u001b[0m\u001b[0;34m)\u001b[0m\u001b[0;34m\u001b[0m\u001b[0;34m\u001b[0m\u001b[0m\n\u001b[1;32m      8\u001b[0m \u001b[0;34m\u001b[0m\u001b[0m\n",
            "\u001b[0;31mNameError\u001b[0m: name 'X_train' is not defined"
          ]
        }
      ]
    },
    {
      "cell_type": "markdown",
      "source": [
        "##下面那段越語\n",
        "\n",
        "在這種情況下，結果等同於主要投票技術。為了更準確地評估不同 K 值下 KNN 的結果，以及不同距離度量和權重定義的方法，我們需要使用多種不同的訓練和測試數據分割方式來進行評估，然後取平均值。因為在特定情況下，數據的分割可能非常好或非常差（有偏差）。這也是評估特定算法性能時經常使用的方法。\n",
        "\n",
        "簡而言之，這段文字講述了在評估 KNN 時，需要使用不同的分割數據集、不同的距離度量和權重設置，以確保評估的結果更具可信度。通常，這些評估的結果將被平均，以獲得更全面的性能評估。\n",
        "\n",
        "\n",
        "*   KNN 用於回歸問題\n",
        "\n",
        "對於回歸問題，我們也可以使用類似的方法：根據鄰居的輸出值和它們到目標的距離來估計輸出值。這取決於您的問題，您可以自行定義如何依賴這些值。\n",
        "\n",
        "<div class=\"imgcap\">\n",
        "<img src =\"/public/knn/knnR.png\" align = \"center\">\n",
        "<div class=\"thecap\"> KNN cho bài toán Regression  (Nguồn: <a href = \"http://scikit-learn.org/stable/auto_examples/neighbors/plot_regression.html#sphx-glr-auto-examples-neighbors-plot-regression-py\">Nearest Neighbors regression</a>) <br></div>\n",
        "</div>\n",
        "\n",
        "*   數據標準化\n",
        "當數據中的某個特徵（或向量中的元素）遠大於其他特徵（例如，使用毫米而不是厘米測量結果）時，各點之間的距離將高度依賴於該特徵。為了獲得更準確的結果，通常使用數據標準化技術，將不同單位的特徵縮放到相同的值範圍內，通常是從0到1，然後再進行KNN。有許多不同的標準化技術，您將在後續的博客文章中了解到。這些標準化技術不僅適用於KNN，還適用於大多數其他算法。\n",
        "\n",
        "使用不同的距離度量\n",
        "除了本文介紹的norm 1和norm 2之外，還有許多其他不同的距離度量可以使用。一個簡單的例子是計算兩個數據點之間的不同特徵的數量。這個數量越小，兩個數據點越接近。這實際上就是我們所謂的0-norm。\n",
        "\n",
        "*   KNN的優點\n",
        "訓練過程的計算複雜度為0。\n",
        "對新數據的預測非常簡單。\n",
        "不需要對類別的分佈做任何假設。\n",
        "*   KNN的缺點\n",
        "當K較小時，KNN對噪音非常敏感。\n",
        "正如我們所說的，KNN是一個在測試階段進行大量計算的算法，其中計算到每個訓練數據點的距離會花費大量時間，特別是在具有大量特徵和數據點的數據庫中。K越大，計算的複雜性也越高。此外，將所有數據存儲在內存中也會影響KNN的性能。"
      ],
      "metadata": {
        "id": "rDBLpxVbvaGM"
      }
    },
    {
      "cell_type": "markdown",
      "source": [
        "## Try it yourself - MNIST Dataset\n",
        "\n",
        "手寫數字圖像分類問題，最有名的資料集是 MNIST 資料集 (MNIST Dataset)，MNIST 中包含了上萬張的手寫數字圖像以及每一張圖像正確的標籤 (Label)。\n",
        "\n",
        "MNIST 是 Modified National Institute of Standards and Technology database 的縮寫，其為 NIST 機構所建立的兩個資料集的修改版本。"
      ],
      "metadata": {
        "id": "YKvT23Uwx5dw"
      }
    },
    {
      "cell_type": "code",
      "source": [
        "!pip install python-mnist"
      ],
      "metadata": {
        "id": "XxWqnDh4x4Ft"
      },
      "execution_count": null,
      "outputs": []
    },
    {
      "cell_type": "code",
      "source": [
        "# %reset\n",
        "\"\"\"\n",
        "from __future__ import division\n",
        "import numpy as np\n",
        "from mnist import MNIST\n",
        "import matplotlib.pyplot as plt\n",
        "from sklearn import neighbors\n",
        "from sklearn.metrics import accuracy_score\n",
        "\n",
        "import time\n",
        "\n",
        "# you need to download the MNIST dataset first\n",
        "# at: http://yann.lecun.com/exdb/mnist/\n",
        "mndata = MNIST('../MNIST/') # path to your MNIST folder\n",
        "mndata.load_testing()\n",
        "mndata.load_training()\n",
        "X_test = mndata.test_images\n",
        "X_train = mndata.train_images\n",
        "y_test = np.asarray(mndata.test_labels)\n",
        "y_train = np.asarray(mndata.train_labels)\n",
        "\n",
        "# uncomment then run\n",
        "start_time = time.time()\n",
        "clf = neighbors.KNeighborsClassifier(n_neighbors = 1, p = 2)\n",
        "clf.fit(X_train, y_train)\n",
        "y_pred = clf.predict(X_test)\n",
        "end_time = time.time()\n",
        "print(\"Accuracy of 1NN for MNISST: %.2f %%\" %(100*accuracy_score(y_test, y_pred)))\n",
        "print(\"Running time: %.2f (s)\" % (end_time - start_time))\n",
        "\"\"\""
      ],
      "metadata": {
        "id": "u53ms4IyyBSO"
      },
      "execution_count": null,
      "outputs": []
    }
  ]
}